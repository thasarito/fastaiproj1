{
 "cells": [
  {
   "cell_type": "markdown",
   "metadata": {},
   "source": [
    "# Create dataset from picture-based subreddit"
   ]
  },
  {
   "cell_type": "markdown",
   "metadata": {},
   "source": [
    "## All-time top post\n",
    "Using [praw](https://praw.readthedocs.io/en/latest/) library to get the image link from top 200 of all-time top post from 10 picture-based subreddit. \n",
    "\n",
    "`input: any image.\n",
    "output: which subreddit are likely to appreciate your image the most.`"
   ]
  },
  {
   "cell_type": "markdown",
   "metadata": {},
   "source": [
    "### List of subreddit included in dataset\n",
    "\n",
    "* [r/AbandonedPorn](https://www.reddit.com/r/AbandonedPorn)\n",
    "* [r/AccidentalRenaissance](https://www.reddit.com/r/AccidentalRenaissance)\n",
    "* [r/AccidentalWesAnderson](https://www.reddit.com/r/AccidentalWesAnderson)\n",
    "* [r/astrophotography](https://www.reddit.com/r/astrophotography)\n",
    "* [r/aww](https://www.reddit.com/r/aww)\n",
    "* [r/carporn](https://www.reddit.com/r/carporn)\n",
    "* [r/EarthPorn](https://www.reddit.com/r/EarthPorn)\n",
    "* [r/Foodporn](https://www.reddit.com/r/Foodporn)\n",
    "* [r/roomporn](https://www.reddit.com/r/roomporn)\n",
    "* [r/thewaywewere](https://www.reddit.com/r/thewaywewere)"
   ]
  },
  {
   "cell_type": "code",
   "execution_count": 4,
   "metadata": {},
   "outputs": [],
   "source": [
    "from fastai import *\n",
    "from fastai.vision import *"
   ]
  },
  {
   "cell_type": "code",
   "execution_count": 5,
   "metadata": {},
   "outputs": [],
   "source": [
    "sub = [\n",
    "    'AbandonedPorn',\n",
    "    'AccidentalRenaissance',\n",
    "    'AccidentalWesAnderson',\n",
    "    'astrophotography',\n",
    "    'aww',\n",
    "    'carporn',\n",
    "    'EarthPorn',\n",
    "    'Foodporn',\n",
    "    'roomporn',\n",
    "    'thewaywewere',\n",
    "      ]"
   ]
  },
  {
   "cell_type": "markdown",
   "metadata": {},
   "source": [
    "### Download images\n",
    "\n",
    "I write the link into .txt file in the same format as in class `f'urls_{r}\\n'` and uploaded it into data folder."
   ]
  },
  {
   "cell_type": "code",
   "execution_count": 6,
   "metadata": {
    "scrolled": true
   },
   "outputs": [
    {
     "data": {
      "text/html": [
       "\n",
       "    <div>\n",
       "        <style>\n",
       "        \t/* Turns off some styling */\n",
       "        \tprogress {\n",
       "\n",
       "            \t/* gets rid of default border in Firefox and Opera. */\n",
       "            \tborder: none;\n",
       "\n",
       "            \t/* Needs to be in here for Safari polyfill so background images work as expected. */\n",
       "            \tbackground-size: auto;\n",
       "            }\n",
       "\n",
       "            .progress-bar-interrupted, .progress-bar-interrupted::-webkit-progress-bar {\n",
       "                background: #F44336;\n",
       "            }\n",
       "        </style>\n",
       "      <progress value='200' class='' max='200', style='width:300px; height:20px; vertical-align: middle;'></progress>\n",
       "      100.00% [200/200 00:17<00:00]\n",
       "    </div>\n",
       "    "
      ],
      "text/plain": [
       "<IPython.core.display.HTML object>"
      ]
     },
     "metadata": {},
     "output_type": "display_data"
    },
    {
     "name": "stdout",
     "output_type": "stream",
     "text": [
      "Error https://www.flickr.com/photos/erocketship7/39626811664/ 'content-length'\n",
      "Error http://media.npr.org/assets/img/2012/10/31/081-e8083fd30550683e2c577d51ef2ee6559abcb89a-s1600-c85.jpg 'content-length'\n"
     ]
    },
    {
     "data": {
      "text/html": [
       "\n",
       "    <div>\n",
       "        <style>\n",
       "        \t/* Turns off some styling */\n",
       "        \tprogress {\n",
       "\n",
       "            \t/* gets rid of default border in Firefox and Opera. */\n",
       "            \tborder: none;\n",
       "\n",
       "            \t/* Needs to be in here for Safari polyfill so background images work as expected. */\n",
       "            \tbackground-size: auto;\n",
       "            }\n",
       "\n",
       "            .progress-bar-interrupted, .progress-bar-interrupted::-webkit-progress-bar {\n",
       "                background: #F44336;\n",
       "            }\n",
       "        </style>\n",
       "      <progress value='200' class='' max='200', style='width:300px; height:20px; vertical-align: middle;'></progress>\n",
       "      100.00% [200/200 00:12<00:00]\n",
       "    </div>\n",
       "    "
      ],
      "text/plain": [
       "<IPython.core.display.HTML object>"
      ]
     },
     "metadata": {},
     "output_type": "display_data"
    },
    {
     "name": "stdout",
     "output_type": "stream",
     "text": [
      "Error https://www.battleforthenet.com/ 'content-length'\n",
      "Error https://www.reddit.com/r/AccidentalRenaissance/comments/5bf3oq/cool_picture_is_not_the_same_as_accidental/ 'content-length'\n"
     ]
    },
    {
     "data": {
      "text/html": [
       "\n",
       "    <div>\n",
       "        <style>\n",
       "        \t/* Turns off some styling */\n",
       "        \tprogress {\n",
       "\n",
       "            \t/* gets rid of default border in Firefox and Opera. */\n",
       "            \tborder: none;\n",
       "\n",
       "            \t/* Needs to be in here for Safari polyfill so background images work as expected. */\n",
       "            \tbackground-size: auto;\n",
       "            }\n",
       "\n",
       "            .progress-bar-interrupted, .progress-bar-interrupted::-webkit-progress-bar {\n",
       "                background: #F44336;\n",
       "            }\n",
       "        </style>\n",
       "      <progress value='200' class='' max='200', style='width:300px; height:20px; vertical-align: middle;'></progress>\n",
       "      100.00% [200/200 00:07<00:00]\n",
       "    </div>\n",
       "    "
      ],
      "text/plain": [
       "<IPython.core.display.HTML object>"
      ]
     },
     "metadata": {},
     "output_type": "display_data"
    },
    {
     "name": "stdout",
     "output_type": "stream",
     "text": [
      "Error https://v.redd.it/yxmxd74tkrwz 'content-length'\n"
     ]
    },
    {
     "data": {
      "text/html": [
       "\n",
       "    <div>\n",
       "        <style>\n",
       "        \t/* Turns off some styling */\n",
       "        \tprogress {\n",
       "\n",
       "            \t/* gets rid of default border in Firefox and Opera. */\n",
       "            \tborder: none;\n",
       "\n",
       "            \t/* Needs to be in here for Safari polyfill so background images work as expected. */\n",
       "            \tbackground-size: auto;\n",
       "            }\n",
       "\n",
       "            .progress-bar-interrupted, .progress-bar-interrupted::-webkit-progress-bar {\n",
       "                background: #F44336;\n",
       "            }\n",
       "        </style>\n",
       "      <progress value='200' class='' max='200', style='width:300px; height:20px; vertical-align: middle;'></progress>\n",
       "      100.00% [200/200 00:14<00:00]\n",
       "    </div>\n",
       "    "
      ],
      "text/plain": [
       "<IPython.core.display.HTML object>"
      ]
     },
     "metadata": {},
     "output_type": "display_data"
    },
    {
     "name": "stdout",
     "output_type": "stream",
     "text": [
      "Error http://apod.nasa.gov/ 'content-length'\n",
      "Error https://v.redd.it/7nsbehb1kq711 'content-length'\n"
     ]
    },
    {
     "data": {
      "text/html": [
       "\n",
       "    <div>\n",
       "        <style>\n",
       "        \t/* Turns off some styling */\n",
       "        \tprogress {\n",
       "\n",
       "            \t/* gets rid of default border in Firefox and Opera. */\n",
       "            \tborder: none;\n",
       "\n",
       "            \t/* Needs to be in here for Safari polyfill so background images work as expected. */\n",
       "            \tbackground-size: auto;\n",
       "            }\n",
       "\n",
       "            .progress-bar-interrupted, .progress-bar-interrupted::-webkit-progress-bar {\n",
       "                background: #F44336;\n",
       "            }\n",
       "        </style>\n",
       "      <progress value='200' class='' max='200', style='width:300px; height:20px; vertical-align: middle;'></progress>\n",
       "      100.00% [200/200 00:16<00:00]\n",
       "    </div>\n",
       "    "
      ],
      "text/plain": [
       "<IPython.core.display.HTML object>"
      ]
     },
     "metadata": {},
     "output_type": "display_data"
    },
    {
     "name": "stdout",
     "output_type": "stream",
     "text": [
      "Error https://v.redd.it/vd8gk4loyvl11 'content-length'\n",
      "Error https://v.redd.it/x92w55qkibu11 'content-length'\n",
      "Error https://v.redd.it/pm3amkyj7dd11 'content-length'\n",
      "Error https://v.redd.it/y93j8tb8qjt11 'content-length'\n",
      "Error https://v.redd.it/nrpffih9vwi11 'content-length'\n",
      "Error https://v.redd.it/ff4u3jysm9k11 'content-length'\n",
      "Error https://v.redd.it/kj91x003zi801 'content-length'\n",
      "Error https://v.redd.it/2115zjks0f211 'content-length'\n"
     ]
    },
    {
     "data": {
      "text/html": [
       "\n",
       "    <div>\n",
       "        <style>\n",
       "        \t/* Turns off some styling */\n",
       "        \tprogress {\n",
       "\n",
       "            \t/* gets rid of default border in Firefox and Opera. */\n",
       "            \tborder: none;\n",
       "\n",
       "            \t/* Needs to be in here for Safari polyfill so background images work as expected. */\n",
       "            \tbackground-size: auto;\n",
       "            }\n",
       "\n",
       "            .progress-bar-interrupted, .progress-bar-interrupted::-webkit-progress-bar {\n",
       "                background: #F44336;\n",
       "            }\n",
       "        </style>\n",
       "      <progress value='200' class='' max='200', style='width:300px; height:20px; vertical-align: middle;'></progress>\n",
       "      100.00% [200/200 00:12<00:00]\n",
       "    </div>\n",
       "    "
      ],
      "text/plain": [
       "<IPython.core.display.HTML object>"
      ]
     },
     "metadata": {},
     "output_type": "display_data"
    },
    {
     "data": {
      "text/html": [
       "\n",
       "    <div>\n",
       "        <style>\n",
       "        \t/* Turns off some styling */\n",
       "        \tprogress {\n",
       "\n",
       "            \t/* gets rid of default border in Firefox and Opera. */\n",
       "            \tborder: none;\n",
       "\n",
       "            \t/* Needs to be in here for Safari polyfill so background images work as expected. */\n",
       "            \tbackground-size: auto;\n",
       "            }\n",
       "\n",
       "            .progress-bar-interrupted, .progress-bar-interrupted::-webkit-progress-bar {\n",
       "                background: #F44336;\n",
       "            }\n",
       "        </style>\n",
       "      <progress value='200' class='' max='200', style='width:300px; height:20px; vertical-align: middle;'></progress>\n",
       "      100.00% [200/200 00:22<00:00]\n",
       "    </div>\n",
       "    "
      ],
      "text/plain": [
       "<IPython.core.display.HTML object>"
      ]
     },
     "metadata": {},
     "output_type": "display_data"
    },
    {
     "name": "stdout",
     "output_type": "stream",
     "text": [
      "Error https://www.battleforthenet.com/?utm_source=AN&utm_medium=email&utm_campaign=BFTNCallTool&utm_content=voteannouncement&ref=fftf_fftfan1120_30&link_id=0&can_id=185bf77ffd26b044bcbf9d7fadbab34e&email_referrer=email_265020&email_subject=net-neutrality-dies-in-one-month-unless-we-stop-it 'content-length'\n",
      "Error https://www.reddit.com/r/EarthPorn/comments/7jtl22/the_fcc_just_voted_to_end_net_neutrality_but_the/ 'content-length'\n",
      "Error https://www.flickr.com/photos/emeksv/37459778535/in/photostream/ 'content-length'\n",
      "Error https://www.flickr.com/photos/ianc1990/34882793076/sizes/l 'content-length'\n"
     ]
    },
    {
     "data": {
      "text/html": [
       "\n",
       "    <div>\n",
       "        <style>\n",
       "        \t/* Turns off some styling */\n",
       "        \tprogress {\n",
       "\n",
       "            \t/* gets rid of default border in Firefox and Opera. */\n",
       "            \tborder: none;\n",
       "\n",
       "            \t/* Needs to be in here for Safari polyfill so background images work as expected. */\n",
       "            \tbackground-size: auto;\n",
       "            }\n",
       "\n",
       "            .progress-bar-interrupted, .progress-bar-interrupted::-webkit-progress-bar {\n",
       "                background: #F44336;\n",
       "            }\n",
       "        </style>\n",
       "      <progress value='200' class='' max='200', style='width:300px; height:20px; vertical-align: middle;'></progress>\n",
       "      100.00% [200/200 00:15<00:00]\n",
       "    </div>\n",
       "    "
      ],
      "text/plain": [
       "<IPython.core.display.HTML object>"
      ]
     },
     "metadata": {},
     "output_type": "display_data"
    },
    {
     "data": {
      "text/html": [
       "\n",
       "    <div>\n",
       "        <style>\n",
       "        \t/* Turns off some styling */\n",
       "        \tprogress {\n",
       "\n",
       "            \t/* gets rid of default border in Firefox and Opera. */\n",
       "            \tborder: none;\n",
       "\n",
       "            \t/* Needs to be in here for Safari polyfill so background images work as expected. */\n",
       "            \tbackground-size: auto;\n",
       "            }\n",
       "\n",
       "            .progress-bar-interrupted, .progress-bar-interrupted::-webkit-progress-bar {\n",
       "                background: #F44336;\n",
       "            }\n",
       "        </style>\n",
       "      <progress value='200' class='' max='200', style='width:300px; height:20px; vertical-align: middle;'></progress>\n",
       "      100.00% [200/200 00:15<00:00]\n",
       "    </div>\n",
       "    "
      ],
      "text/plain": [
       "<IPython.core.display.HTML object>"
      ]
     },
     "metadata": {},
     "output_type": "display_data"
    },
    {
     "name": "stdout",
     "output_type": "stream",
     "text": [
      "Error https://www.flickr.com/photos/aida_dasilva/5914427720 'content-length'\n"
     ]
    },
    {
     "data": {
      "text/html": [
       "\n",
       "    <div>\n",
       "        <style>\n",
       "        \t/* Turns off some styling */\n",
       "        \tprogress {\n",
       "\n",
       "            \t/* gets rid of default border in Firefox and Opera. */\n",
       "            \tborder: none;\n",
       "\n",
       "            \t/* Needs to be in here for Safari polyfill so background images work as expected. */\n",
       "            \tbackground-size: auto;\n",
       "            }\n",
       "\n",
       "            .progress-bar-interrupted, .progress-bar-interrupted::-webkit-progress-bar {\n",
       "                background: #F44336;\n",
       "            }\n",
       "        </style>\n",
       "      <progress value='200' class='' max='200', style='width:300px; height:20px; vertical-align: middle;'></progress>\n",
       "      100.00% [200/200 00:09<00:00]\n",
       "    </div>\n",
       "    "
      ],
      "text/plain": [
       "<IPython.core.display.HTML object>"
      ]
     },
     "metadata": {},
     "output_type": "display_data"
    }
   ],
   "source": [
    "for r in sub:\n",
    "    folder = r\n",
    "    file = f'urls_{r}.txt'\n",
    "    path = Path('data')\n",
    "    dest = path/folder\n",
    "    dest.mkdir(parents=True, exist_ok=True)\n",
    "    download_images(path/file, dest, max_pics=200)"
   ]
  },
  {
   "cell_type": "code",
   "execution_count": null,
   "metadata": {},
   "outputs": [
    {
     "name": "stdout",
     "output_type": "stream",
     "text": [
      "AbandonedPorn\n"
     ]
    },
    {
     "data": {
      "text/html": [
       "\n",
       "    <div>\n",
       "        <style>\n",
       "        \t/* Turns off some styling */\n",
       "        \tprogress {\n",
       "\n",
       "            \t/* gets rid of default border in Firefox and Opera. */\n",
       "            \tborder: none;\n",
       "\n",
       "            \t/* Needs to be in here for Safari polyfill so background images work as expected. */\n",
       "            \tbackground-size: auto;\n",
       "            }\n",
       "\n",
       "            .progress-bar-interrupted, .progress-bar-interrupted::-webkit-progress-bar {\n",
       "                background: #F44336;\n",
       "            }\n",
       "        </style>\n",
       "      <progress value='198' class='' max='198', style='width:300px; height:20px; vertical-align: middle;'></progress>\n",
       "      100.00% [198/198 00:12<00:00]\n",
       "    </div>\n",
       "    "
      ],
      "text/plain": [
       "<IPython.core.display.HTML object>"
      ]
     },
     "metadata": {},
     "output_type": "display_data"
    },
    {
     "name": "stdout",
     "output_type": "stream",
     "text": [
      "cannot identify image file '/home/jupyter/redditphoto/data/AbandonedPorn/00000149.jpg'\n",
      "cannot identify image file '/home/jupyter/redditphoto/data/AbandonedPorn/00000134.jpg'\n",
      "cannot identify image file '/home/jupyter/redditphoto/data/AbandonedPorn/00000159.jpg'\n",
      "cannot identify image file '/home/jupyter/redditphoto/data/AbandonedPorn/00000112.jpg'\n",
      "cannot identify image file '/home/jupyter/redditphoto/data/AbandonedPorn/00000163.jpg'\n",
      "cannot identify image file '/home/jupyter/redditphoto/data/AbandonedPorn/00000129.jpg'\n",
      "cannot identify image file '/home/jupyter/redditphoto/data/AbandonedPorn/00000197.jpg'\n",
      "cannot identify image file '/home/jupyter/redditphoto/data/AbandonedPorn/00000081.jpg'\n",
      "AccidentalRenaissance\n"
     ]
    },
    {
     "data": {
      "text/html": [
       "\n",
       "    <div>\n",
       "        <style>\n",
       "        \t/* Turns off some styling */\n",
       "        \tprogress {\n",
       "\n",
       "            \t/* gets rid of default border in Firefox and Opera. */\n",
       "            \tborder: none;\n",
       "\n",
       "            \t/* Needs to be in here for Safari polyfill so background images work as expected. */\n",
       "            \tbackground-size: auto;\n",
       "            }\n",
       "\n",
       "            .progress-bar-interrupted, .progress-bar-interrupted::-webkit-progress-bar {\n",
       "                background: #F44336;\n",
       "            }\n",
       "        </style>\n",
       "      <progress value='198' class='' max='198', style='width:300px; height:20px; vertical-align: middle;'></progress>\n",
       "      100.00% [198/198 00:07<00:00]\n",
       "    </div>\n",
       "    "
      ],
      "text/plain": [
       "<IPython.core.display.HTML object>"
      ]
     },
     "metadata": {},
     "output_type": "display_data"
    },
    {
     "name": "stdout",
     "output_type": "stream",
     "text": [
      "cannot identify image file '/home/jupyter/redditphoto/data/AccidentalRenaissance/00000179.jpg'\n",
      "cannot identify image file '/home/jupyter/redditphoto/data/AccidentalRenaissance/00000132.jpg'\n",
      "cannot identify image file '/home/jupyter/redditphoto/data/AccidentalRenaissance/00000175.jpg'\n",
      "cannot identify image file '/home/jupyter/redditphoto/data/AccidentalRenaissance/00000173.jpg'\n",
      "cannot identify image file '/home/jupyter/redditphoto/data/AccidentalRenaissance/00000086.jpg'\n",
      "cannot identify image file '/home/jupyter/redditphoto/data/AccidentalRenaissance/00000085.jpg'\n",
      "cannot identify image file '/home/jupyter/redditphoto/data/AccidentalRenaissance/00000184.jpg'\n",
      "cannot identify image file '/home/jupyter/redditphoto/data/AccidentalRenaissance/00000031.jpg'\n",
      "cannot identify image file '/home/jupyter/redditphoto/data/AccidentalRenaissance/00000027.jpg'\n",
      "cannot identify image file '/home/jupyter/redditphoto/data/AccidentalRenaissance/00000165.jpg'\n",
      "cannot identify image file '/home/jupyter/redditphoto/data/AccidentalRenaissance/00000157.jpg'\n",
      "cannot identify image file '/home/jupyter/redditphoto/data/AccidentalRenaissance/00000170.jpg'\n",
      "cannot identify image file '/home/jupyter/redditphoto/data/AccidentalRenaissance/00000109.jpg'\n",
      "cannot identify image file '/home/jupyter/redditphoto/data/AccidentalRenaissance/00000167.jpg'\n",
      "AccidentalWesAnderson\n"
     ]
    },
    {
     "data": {
      "text/html": [
       "\n",
       "    <div>\n",
       "        <style>\n",
       "        \t/* Turns off some styling */\n",
       "        \tprogress {\n",
       "\n",
       "            \t/* gets rid of default border in Firefox and Opera. */\n",
       "            \tborder: none;\n",
       "\n",
       "            \t/* Needs to be in here for Safari polyfill so background images work as expected. */\n",
       "            \tbackground-size: auto;\n",
       "            }\n",
       "\n",
       "            .progress-bar-interrupted, .progress-bar-interrupted::-webkit-progress-bar {\n",
       "                background: #F44336;\n",
       "            }\n",
       "        </style>\n",
       "      <progress value='199' class='' max='199', style='width:300px; height:20px; vertical-align: middle;'></progress>\n",
       "      100.00% [199/199 00:09<00:00]\n",
       "    </div>\n",
       "    "
      ],
      "text/plain": [
       "<IPython.core.display.HTML object>"
      ]
     },
     "metadata": {},
     "output_type": "display_data"
    },
    {
     "name": "stdout",
     "output_type": "stream",
     "text": [
      "cannot identify image file '/home/jupyter/redditphoto/data/AccidentalWesAnderson/00000026.jpg'\n",
      "cannot identify image file '/home/jupyter/redditphoto/data/AccidentalWesAnderson/00000114.jpg'\n",
      "cannot identify image file '/home/jupyter/redditphoto/data/AccidentalWesAnderson/00000196.jpg'\n",
      "cannot identify image file '/home/jupyter/redditphoto/data/AccidentalWesAnderson/00000044.jpg'\n",
      "cannot identify image file '/home/jupyter/redditphoto/data/AccidentalWesAnderson/00000151.jpg'\n",
      "cannot identify image file '/home/jupyter/redditphoto/data/AccidentalWesAnderson/00000040.jpg'\n",
      "cannot identify image file '/home/jupyter/redditphoto/data/AccidentalWesAnderson/00000193.jpg'\n",
      "cannot identify image file '/home/jupyter/redditphoto/data/AccidentalWesAnderson/00000198.jpg'\n",
      "cannot identify image file '/home/jupyter/redditphoto/data/AccidentalWesAnderson/00000041.jpg'\n",
      "cannot identify image file '/home/jupyter/redditphoto/data/AccidentalWesAnderson/00000015.jpg'\n",
      "cannot identify image file '/home/jupyter/redditphoto/data/AccidentalWesAnderson/00000130.jpg'\n",
      "cannot identify image file '/home/jupyter/redditphoto/data/AccidentalWesAnderson/00000065.jpg'\n",
      "astrophotography\n"
     ]
    },
    {
     "data": {
      "text/html": [
       "\n",
       "    <div>\n",
       "        <style>\n",
       "        \t/* Turns off some styling */\n",
       "        \tprogress {\n",
       "\n",
       "            \t/* gets rid of default border in Firefox and Opera. */\n",
       "            \tborder: none;\n",
       "\n",
       "            \t/* Needs to be in here for Safari polyfill so background images work as expected. */\n",
       "            \tbackground-size: auto;\n",
       "            }\n",
       "\n",
       "            .progress-bar-interrupted, .progress-bar-interrupted::-webkit-progress-bar {\n",
       "                background: #F44336;\n",
       "            }\n",
       "        </style>\n",
       "      <progress value='198' class='' max='198', style='width:300px; height:20px; vertical-align: middle;'></progress>\n",
       "      100.00% [198/198 00:17<00:00]\n",
       "    </div>\n",
       "    "
      ],
      "text/plain": [
       "<IPython.core.display.HTML object>"
      ]
     },
     "metadata": {},
     "output_type": "display_data"
    },
    {
     "name": "stdout",
     "output_type": "stream",
     "text": [
      "cannot identify image file '/home/jupyter/redditphoto/data/astrophotography/00000102.jpg'\n",
      "cannot identify image file '/home/jupyter/redditphoto/data/astrophotography/00000088.jpg'\n",
      "cannot identify image file '/home/jupyter/redditphoto/data/astrophotography/00000048.jpg'\n",
      "cannot identify image file '/home/jupyter/redditphoto/data/astrophotography/00000000.jpg'\n",
      "cannot identify image file '/home/jupyter/redditphoto/data/astrophotography/00000147.jpg'\n",
      "cannot identify image file '/home/jupyter/redditphoto/data/astrophotography/00000177.jpg'\n",
      "cannot identify image file '/home/jupyter/redditphoto/data/astrophotography/00000056.jpg'\n",
      "cannot identify image file '/home/jupyter/redditphoto/data/astrophotography/00000037.jpg'\n",
      "cannot identify image file '/home/jupyter/redditphoto/data/astrophotography/00000111.jpg'\n",
      "cannot identify image file '/home/jupyter/redditphoto/data/astrophotography/00000092.jpg'\n",
      "cannot identify image file '/home/jupyter/redditphoto/data/astrophotography/00000039.jpg'\n",
      "cannot identify image file '/home/jupyter/redditphoto/data/astrophotography/00000123.jpg'\n",
      "cannot identify image file '/home/jupyter/redditphoto/data/astrophotography/00000067.jpg'\n",
      "cannot identify image file '/home/jupyter/redditphoto/data/astrophotography/00000031.jpg'\n",
      "cannot identify image file '/home/jupyter/redditphoto/data/astrophotography/00000163.jpg'\n",
      "cannot identify image file '/home/jupyter/redditphoto/data/astrophotography/00000190.jpg'\n",
      "cannot identify image file '/home/jupyter/redditphoto/data/astrophotography/00000165.jpg'\n",
      "cannot identify image file '/home/jupyter/redditphoto/data/astrophotography/00000051.jpg'\n",
      "cannot identify image file '/home/jupyter/redditphoto/data/astrophotography/00000096.jpg'\n",
      "cannot identify image file '/home/jupyter/redditphoto/data/astrophotography/00000047.jpg'\n",
      "cannot identify image file '/home/jupyter/redditphoto/data/astrophotography/00000167.jpg'\n",
      "cannot identify image file '/home/jupyter/redditphoto/data/astrophotography/00000104.jpg'\n",
      "cannot identify image file '/home/jupyter/redditphoto/data/astrophotography/00000023.jpg'\n",
      "aww\n"
     ]
    },
    {
     "data": {
      "text/html": [
       "\n",
       "    <div>\n",
       "        <style>\n",
       "        \t/* Turns off some styling */\n",
       "        \tprogress {\n",
       "\n",
       "            \t/* gets rid of default border in Firefox and Opera. */\n",
       "            \tborder: none;\n",
       "\n",
       "            \t/* Needs to be in here for Safari polyfill so background images work as expected. */\n",
       "            \tbackground-size: auto;\n",
       "            }\n",
       "\n",
       "            .progress-bar-interrupted, .progress-bar-interrupted::-webkit-progress-bar {\n",
       "                background: #F44336;\n",
       "            }\n",
       "        </style>\n",
       "      <progress value='192' class='' max='192', style='width:300px; height:20px; vertical-align: middle;'></progress>\n",
       "      100.00% [192/192 00:05<00:00]\n",
       "    </div>\n",
       "    "
      ],
      "text/plain": [
       "<IPython.core.display.HTML object>"
      ]
     },
     "metadata": {},
     "output_type": "display_data"
    },
    {
     "name": "stdout",
     "output_type": "stream",
     "text": [
      "cannot identify image file '/home/jupyter/redditphoto/data/aww/00000152.jpg'\n",
      "cannot identify image file '/home/jupyter/redditphoto/data/aww/00000026.jpg'\n",
      "cannot identify image file '/home/jupyter/redditphoto/data/aww/00000035.jpg'\n",
      "cannot identify image file '/home/jupyter/redditphoto/data/aww/00000171.jpg'\n",
      "cannot identify image file '/home/jupyter/redditphoto/data/aww/00000196.jpg'\n",
      "cannot identify image file '/home/jupyter/redditphoto/data/aww/00000114.jpg'\n",
      "cannot identify image file '/home/jupyter/redditphoto/data/aww/00000164.jpg'\n",
      "cannot identify image file '/home/jupyter/redditphoto/data/aww/00000191.jpg'\n",
      "cannot identify image file '/home/jupyter/redditphoto/data/aww/00000057.jpg'\n",
      "cannot identify image file '/home/jupyter/redditphoto/data/aww/00000149.jpg'\n",
      "cannot identify image file '/home/jupyter/redditphoto/data/aww/00000006.jpg'\n",
      "cannot identify image file '/home/jupyter/redditphoto/data/aww/00000044.jpg'\n",
      "cannot identify image file '/home/jupyter/redditphoto/data/aww/00000105.jpg'\n",
      "cannot identify image file '/home/jupyter/redditphoto/data/aww/00000185.jpg'\n",
      "cannot identify image file '/home/jupyter/redditphoto/data/aww/00000013.jpg'\n",
      "cannot identify image file '/home/jupyter/redditphoto/data/aww/00000064.jpg'\n",
      "cannot identify image file '/home/jupyter/redditphoto/data/aww/00000158.jpg'\n",
      "cannot identify image file '/home/jupyter/redditphoto/data/aww/00000169.jpg'\n",
      "cannot identify image file '/home/jupyter/redditphoto/data/aww/00000068.jpg'\n",
      "cannot identify image file '/home/jupyter/redditphoto/data/aww/00000000.jpg'\n",
      "cannot identify image file '/home/jupyter/redditphoto/data/aww/00000059.jpg'\n",
      "cannot identify image file '/home/jupyter/redditphoto/data/aww/00000174.jpg'\n",
      "cannot identify image file '/home/jupyter/redditphoto/data/aww/00000132.jpg'\n",
      "cannot identify image file '/home/jupyter/redditphoto/data/aww/00000161.jpg'\n",
      "cannot identify image file '/home/jupyter/redditphoto/data/aww/00000040.jpg'\n",
      "cannot identify image file '/home/jupyter/redditphoto/data/aww/00000087.jpg'\n",
      "cannot identify image file '/home/jupyter/redditphoto/data/aww/00000168.jpg'\n",
      "cannot identify image file '/home/jupyter/redditphoto/data/aww/00000094.jpg'\n",
      "cannot identify image file '/home/jupyter/redditphoto/data/aww/00000089.jpg'\n",
      "cannot identify image file '/home/jupyter/redditphoto/data/aww/00000173.jpg'\n",
      "cannot identify image file '/home/jupyter/redditphoto/data/aww/00000090.jpg'\n",
      "cannot identify image file '/home/jupyter/redditphoto/data/aww/00000056.jpg'\n",
      "cannot identify image file '/home/jupyter/redditphoto/data/aww/00000121.jpg'\n",
      "cannot identify image file '/home/jupyter/redditphoto/data/aww/00000100.jpg'\n",
      "cannot identify image file '/home/jupyter/redditphoto/data/aww/00000069.jpg'\n",
      "cannot identify image file '/home/jupyter/redditphoto/data/aww/00000046.jpg'\n",
      "cannot identify image file '/home/jupyter/redditphoto/data/aww/00000107.jpg'\n",
      "cannot identify image file '/home/jupyter/redditphoto/data/aww/00000198.jpg'\n",
      "cannot identify image file '/home/jupyter/redditphoto/data/aww/00000124.jpg'\n",
      "cannot identify image file '/home/jupyter/redditphoto/data/aww/00000079.jpg'\n",
      "cannot identify image file '/home/jupyter/redditphoto/data/aww/00000034.jpg'\n",
      "cannot identify image file '/home/jupyter/redditphoto/data/aww/00000085.jpg'\n",
      "cannot identify image file '/home/jupyter/redditphoto/data/aww/00000001.jpg'\n",
      "cannot identify image file '/home/jupyter/redditphoto/data/aww/00000189.jpg'\n",
      "cannot identify image file '/home/jupyter/redditphoto/data/aww/00000092.jpg'\n",
      "cannot identify image file '/home/jupyter/redditphoto/data/aww/00000038.jpg'\n",
      "cannot identify image file '/home/jupyter/redditphoto/data/aww/00000018.jpg'\n",
      "cannot identify image file '/home/jupyter/redditphoto/data/aww/00000039.jpg'\n",
      "cannot identify image file '/home/jupyter/redditphoto/data/aww/00000045.jpg'\n",
      "cannot identify image file '/home/jupyter/redditphoto/data/aww/00000123.jpg'\n",
      "cannot identify image file '/home/jupyter/redditphoto/data/aww/00000071.jpg'\n",
      "cannot identify image file '/home/jupyter/redditphoto/data/aww/00000146.jpg'\n",
      "cannot identify image file '/home/jupyter/redditphoto/data/aww/00000067.jpg'\n",
      "cannot identify image file '/home/jupyter/redditphoto/data/aww/00000140.jpg'\n",
      "cannot identify image file '/home/jupyter/redditphoto/data/aww/00000106.jpg'\n",
      "cannot identify image file '/home/jupyter/redditphoto/data/aww/00000095.jpg'\n",
      "cannot identify image file '/home/jupyter/redditphoto/data/aww/00000194.jpg'\n",
      "cannot identify image file '/home/jupyter/redditphoto/data/aww/00000027.jpg'\n",
      "cannot identify image file '/home/jupyter/redditphoto/data/aww/00000036.jpg'\n",
      "cannot identify image file '/home/jupyter/redditphoto/data/aww/00000063.jpg'\n",
      "cannot identify image file '/home/jupyter/redditphoto/data/aww/00000143.jpg'\n",
      "cannot identify image file '/home/jupyter/redditphoto/data/aww/00000163.jpg'\n",
      "cannot identify image file '/home/jupyter/redditphoto/data/aww/00000113.jpg'\n",
      "cannot identify image file '/home/jupyter/redditphoto/data/aww/00000139.jpg'\n",
      "cannot identify image file '/home/jupyter/redditphoto/data/aww/00000129.jpg'\n",
      "cannot identify image file '/home/jupyter/redditphoto/data/aww/00000110.jpg'\n",
      "cannot identify image file '/home/jupyter/redditphoto/data/aww/00000058.jpg'\n",
      "cannot identify image file '/home/jupyter/redditphoto/data/aww/00000080.jpg'\n",
      "cannot identify image file '/home/jupyter/redditphoto/data/aww/00000199.jpg'\n",
      "cannot identify image file '/home/jupyter/redditphoto/data/aww/00000093.jpg'\n",
      "cannot identify image file '/home/jupyter/redditphoto/data/aww/00000062.jpg'\n",
      "cannot identify image file '/home/jupyter/redditphoto/data/aww/00000115.jpg'\n",
      "cannot identify image file '/home/jupyter/redditphoto/data/aww/00000024.jpg'\n",
      "cannot identify image file '/home/jupyter/redditphoto/data/aww/00000084.jpg'\n",
      "cannot identify image file '/home/jupyter/redditphoto/data/aww/00000015.jpg'\n",
      "cannot identify image file '/home/jupyter/redditphoto/data/aww/00000157.jpg'\n",
      "cannot identify image file '/home/jupyter/redditphoto/data/aww/00000141.jpg'\n",
      "cannot identify image file '/home/jupyter/redditphoto/data/aww/00000096.jpg'\n",
      "cannot identify image file '/home/jupyter/redditphoto/data/aww/00000130.jpg'\n",
      "cannot identify image file '/home/jupyter/redditphoto/data/aww/00000160.jpg'\n",
      "cannot identify image file '/home/jupyter/redditphoto/data/aww/00000081.jpg'\n",
      "cannot identify image file '/home/jupyter/redditphoto/data/aww/00000109.jpg'\n",
      "cannot identify image file '/home/jupyter/redditphoto/data/aww/00000131.jpg'\n",
      "cannot identify image file '/home/jupyter/redditphoto/data/aww/00000153.jpg'\n",
      "cannot identify image file '/home/jupyter/redditphoto/data/aww/00000142.jpg'\n",
      "cannot identify image file '/home/jupyter/redditphoto/data/aww/00000148.jpg'\n",
      "cannot identify image file '/home/jupyter/redditphoto/data/aww/00000060.jpg'\n",
      "cannot identify image file '/home/jupyter/redditphoto/data/aww/00000061.jpg'\n",
      "cannot identify image file '/home/jupyter/redditphoto/data/aww/00000021.jpg'\n",
      "cannot identify image file '/home/jupyter/redditphoto/data/aww/00000065.jpg'\n",
      "cannot identify image file '/home/jupyter/redditphoto/data/aww/00000005.jpg'\n",
      "cannot identify image file '/home/jupyter/redditphoto/data/aww/00000077.jpg'\n",
      "cannot identify image file '/home/jupyter/redditphoto/data/aww/00000127.jpg'\n",
      "cannot identify image file '/home/jupyter/redditphoto/data/aww/00000025.jpg'\n",
      "carporn\n"
     ]
    },
    {
     "data": {
      "text/html": [
       "\n",
       "    <div>\n",
       "        <style>\n",
       "        \t/* Turns off some styling */\n",
       "        \tprogress {\n",
       "\n",
       "            \t/* gets rid of default border in Firefox and Opera. */\n",
       "            \tborder: none;\n",
       "\n",
       "            \t/* Needs to be in here for Safari polyfill so background images work as expected. */\n",
       "            \tbackground-size: auto;\n",
       "            }\n",
       "\n",
       "            .progress-bar-interrupted, .progress-bar-interrupted::-webkit-progress-bar {\n",
       "                background: #F44336;\n",
       "            }\n",
       "        </style>\n",
       "      <progress value='200' class='' max='200', style='width:300px; height:20px; vertical-align: middle;'></progress>\n",
       "      100.00% [200/200 00:13<00:00]\n",
       "    </div>\n",
       "    "
      ],
      "text/plain": [
       "<IPython.core.display.HTML object>"
      ]
     },
     "metadata": {},
     "output_type": "display_data"
    },
    {
     "name": "stdout",
     "output_type": "stream",
     "text": [
      "cannot identify image file '/home/jupyter/redditphoto/data/carporn/00000191.jpg'\n",
      "cannot identify image file '/home/jupyter/redditphoto/data/carporn/00000149.jpg'\n",
      "cannot identify image file '/home/jupyter/redditphoto/data/carporn/00000013.jpg'\n",
      "cannot identify image file '/home/jupyter/redditphoto/data/carporn/00000094.jpg'\n",
      "cannot identify image file '/home/jupyter/redditphoto/data/carporn/00000175.jpg'\n",
      "cannot identify image file '/home/jupyter/redditphoto/data/carporn/00000049.jpg'\n",
      "cannot identify image file '/home/jupyter/redditphoto/data/carporn/00000056.jpg'\n",
      "cannot identify image file '/home/jupyter/redditphoto/data/carporn/00000073.jpg'\n",
      "cannot identify image file '/home/jupyter/redditphoto/data/carporn/00000037.jpg'\n",
      "cannot identify image file '/home/jupyter/redditphoto/data/carporn/00000027.jpg'\n",
      "cannot identify image file '/home/jupyter/redditphoto/data/carporn/00000181.jpg'\n",
      "cannot identify image file '/home/jupyter/redditphoto/data/carporn/00000060.jpg'\n",
      "EarthPorn\n"
     ]
    },
    {
     "data": {
      "text/html": [
       "\n",
       "    <div>\n",
       "        <style>\n",
       "        \t/* Turns off some styling */\n",
       "        \tprogress {\n",
       "\n",
       "            \t/* gets rid of default border in Firefox and Opera. */\n",
       "            \tborder: none;\n",
       "\n",
       "            \t/* Needs to be in here for Safari polyfill so background images work as expected. */\n",
       "            \tbackground-size: auto;\n",
       "            }\n",
       "\n",
       "            .progress-bar-interrupted, .progress-bar-interrupted::-webkit-progress-bar {\n",
       "                background: #F44336;\n",
       "            }\n",
       "        </style>\n",
       "      <progress value='196' class='' max='196', style='width:300px; height:20px; vertical-align: middle;'></progress>\n",
       "      100.00% [196/196 00:17<00:00]\n",
       "    </div>\n",
       "    "
      ],
      "text/plain": [
       "<IPython.core.display.HTML object>"
      ]
     },
     "metadata": {},
     "output_type": "display_data"
    },
    {
     "name": "stdout",
     "output_type": "stream",
     "text": [
      "cannot identify image file '/home/jupyter/redditphoto/data/EarthPorn/00000008.jpg'\n",
      "cannot identify image file '/home/jupyter/redditphoto/data/EarthPorn/00000164.jpg'\n",
      "cannot identify image file '/home/jupyter/redditphoto/data/EarthPorn/00000135.jpg'\n",
      "cannot identify image file '/home/jupyter/redditphoto/data/EarthPorn/00000011.jpg'\n",
      "cannot identify image file '/home/jupyter/redditphoto/data/EarthPorn/00000085.jpg'\n",
      "cannot identify image file '/home/jupyter/redditphoto/data/EarthPorn/00000034.jpg'\n",
      "cannot identify image file '/home/jupyter/redditphoto/data/EarthPorn/00000140.jpg'\n",
      "cannot identify image file '/home/jupyter/redditphoto/data/EarthPorn/00000120.jpg'\n",
      "cannot identify image file '/home/jupyter/redditphoto/data/EarthPorn/00000112.jpg'\n",
      "cannot identify image file '/home/jupyter/redditphoto/data/EarthPorn/00000063.jpg'\n",
      "cannot identify image file '/home/jupyter/redditphoto/data/EarthPorn/00000020.jpg'\n",
      "cannot identify image file '/home/jupyter/redditphoto/data/EarthPorn/00000131.jpg'\n",
      "cannot identify image file '/home/jupyter/redditphoto/data/EarthPorn/00000060.jpg'\n",
      "Foodporn\n"
     ]
    },
    {
     "data": {
      "text/html": [
       "\n",
       "    <div>\n",
       "        <style>\n",
       "        \t/* Turns off some styling */\n",
       "        \tprogress {\n",
       "\n",
       "            \t/* gets rid of default border in Firefox and Opera. */\n",
       "            \tborder: none;\n",
       "\n",
       "            \t/* Needs to be in here for Safari polyfill so background images work as expected. */\n",
       "            \tbackground-size: auto;\n",
       "            }\n",
       "\n",
       "            .progress-bar-interrupted, .progress-bar-interrupted::-webkit-progress-bar {\n",
       "                background: #F44336;\n",
       "            }\n",
       "        </style>\n",
       "      <progress value='200' class='' max='200', style='width:300px; height:20px; vertical-align: middle;'></progress>\n",
       "      100.00% [200/200 00:11<00:00]\n",
       "    </div>\n",
       "    "
      ],
      "text/plain": [
       "<IPython.core.display.HTML object>"
      ]
     },
     "metadata": {},
     "output_type": "display_data"
    },
    {
     "name": "stdout",
     "output_type": "stream",
     "text": [
      "cannot identify image file '/home/jupyter/redditphoto/data/Foodporn/00000008.jpg'\n",
      "cannot identify image file '/home/jupyter/redditphoto/data/Foodporn/00000057.jpg'\n",
      "cannot identify image file '/home/jupyter/redditphoto/data/Foodporn/00000050.jpg'\n",
      "cannot identify image file '/home/jupyter/redditphoto/data/Foodporn/00000040.jpg'\n",
      "cannot identify image file '/home/jupyter/redditphoto/data/Foodporn/00000010.jpg'\n",
      "cannot identify image file '/home/jupyter/redditphoto/data/Foodporn/00000161.jpg'\n",
      "cannot identify image file '/home/jupyter/redditphoto/data/Foodporn/00000033.jpg'\n",
      "cannot identify image file '/home/jupyter/redditphoto/data/Foodporn/00000182.jpg'\n",
      "cannot identify image file '/home/jupyter/redditphoto/data/Foodporn/00000001.jpg'\n",
      "cannot identify image file '/home/jupyter/redditphoto/data/Foodporn/00000189.jpg'\n",
      "cannot identify image file '/home/jupyter/redditphoto/data/Foodporn/00000145.jpg'\n",
      "cannot identify image file '/home/jupyter/redditphoto/data/Foodporn/00000038.jpg'\n",
      "cannot identify image file '/home/jupyter/redditphoto/data/Foodporn/00000192.jpg'\n",
      "cannot identify image file '/home/jupyter/redditphoto/data/Foodporn/00000140.jpg'\n",
      "cannot identify image file '/home/jupyter/redditphoto/data/Foodporn/00000106.jpg'\n",
      "cannot identify image file '/home/jupyter/redditphoto/data/Foodporn/00000014.jpg'\n",
      "cannot identify image file '/home/jupyter/redditphoto/data/Foodporn/00000136.jpg'\n",
      "cannot identify image file '/home/jupyter/redditphoto/data/Foodporn/00000165.jpg'\n",
      "cannot identify image file '/home/jupyter/redditphoto/data/Foodporn/00000062.jpg'\n",
      "cannot identify image file '/home/jupyter/redditphoto/data/Foodporn/00000097.jpg'\n",
      "cannot identify image file '/home/jupyter/redditphoto/data/Foodporn/00000016.jpg'\n",
      "roomporn\n"
     ]
    },
    {
     "data": {
      "text/html": [
       "\n",
       "    <div>\n",
       "        <style>\n",
       "        \t/* Turns off some styling */\n",
       "        \tprogress {\n",
       "\n",
       "            \t/* gets rid of default border in Firefox and Opera. */\n",
       "            \tborder: none;\n",
       "\n",
       "            \t/* Needs to be in here for Safari polyfill so background images work as expected. */\n",
       "            \tbackground-size: auto;\n",
       "            }\n",
       "\n",
       "            .progress-bar-interrupted, .progress-bar-interrupted::-webkit-progress-bar {\n",
       "                background: #F44336;\n",
       "            }\n",
       "        </style>\n",
       "      <progress value='51' class='' max='199', style='width:300px; height:20px; vertical-align: middle;'></progress>\n",
       "      25.63% [51/199 00:02<00:07]\n",
       "    </div>\n",
       "    "
      ],
      "text/plain": [
       "<IPython.core.display.HTML object>"
      ]
     },
     "metadata": {},
     "output_type": "display_data"
    },
    {
     "name": "stdout",
     "output_type": "stream",
     "text": [
      "cannot identify image file '/home/jupyter/redditphoto/data/roomporn/00000186.jpg'\n",
      "cannot identify image file '/home/jupyter/redditphoto/data/roomporn/00000009.jpg'\n"
     ]
    }
   ],
   "source": [
    "for r in sub:\n",
    "    print(r)\n",
    "    verify_images(path/r, delete=True, max_workers=8)"
   ]
  }
 ],
 "metadata": {
  "kernelspec": {
   "display_name": "Python 3",
   "language": "python",
   "name": "python3"
  },
  "language_info": {
   "codemirror_mode": {
    "name": "ipython",
    "version": 3
   },
   "file_extension": ".py",
   "mimetype": "text/x-python",
   "name": "python",
   "nbconvert_exporter": "python",
   "pygments_lexer": "ipython3",
   "version": "3.6.5"
  }
 },
 "nbformat": 4,
 "nbformat_minor": 2
}
